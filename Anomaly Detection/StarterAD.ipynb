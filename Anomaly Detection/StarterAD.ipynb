{
 "cells": [
  {
   "cell_type": "code",
   "execution_count": 2,
   "metadata": {
    "collapsed": false,
    "scrolled": true
   },
   "outputs": [
    {
     "ename": "ImportError",
     "evalue": "No module named 'AccuracyAD'",
     "output_type": "error",
     "traceback": [
      "\u001b[0;31m---------------------------------------------------------------------------\u001b[0m",
      "\u001b[0;31mImportError\u001b[0m                               Traceback (most recent call last)",
      "\u001b[0;32m<ipython-input-1-ed07ac7f6494>\u001b[0m in \u001b[0;36m<module>\u001b[0;34m()\u001b[0m\n\u001b[1;32m      1\u001b[0m \u001b[1;32mimport\u001b[0m \u001b[0mnumpy\u001b[0m \u001b[1;32mas\u001b[0m \u001b[0mnp\u001b[0m\u001b[1;33m\u001b[0m\u001b[0m\n\u001b[0;32m----> 2\u001b[0;31m \u001b[1;32mimport\u001b[0m \u001b[0mMasterClassAD\u001b[0m\u001b[1;33m\u001b[0m\u001b[0m\n\u001b[0m\u001b[1;32m      3\u001b[0m \u001b[1;32mimport\u001b[0m \u001b[0mpandas\u001b[0m \u001b[1;32mas\u001b[0m \u001b[0mpd\u001b[0m\u001b[1;33m\u001b[0m\u001b[0m\n",
      "\u001b[0;32mD:\\Python IDE\\Algorithms\\ML Building Blocks\\Anomaly Detection\\MasterClassAD.py\u001b[0m in \u001b[0;36m<module>\u001b[0;34m()\u001b[0m\n\u001b[1;32m      1\u001b[0m \u001b[1;32mimport\u001b[0m \u001b[0mSplit\u001b[0m\u001b[1;33m\u001b[0m\u001b[0m\n\u001b[1;32m      2\u001b[0m \u001b[1;32mimport\u001b[0m \u001b[0mnumpy\u001b[0m \u001b[1;32mas\u001b[0m \u001b[0mnp\u001b[0m\u001b[1;33m\u001b[0m\u001b[0m\n\u001b[0;32m----> 3\u001b[0;31m \u001b[1;32mimport\u001b[0m \u001b[0mAccuracyAD\u001b[0m\u001b[1;33m\u001b[0m\u001b[0m\n\u001b[0m\u001b[1;32m      4\u001b[0m \u001b[1;32mimport\u001b[0m \u001b[0mpandas\u001b[0m \u001b[1;32mas\u001b[0m \u001b[0mpd\u001b[0m\u001b[1;33m\u001b[0m\u001b[0m\n\u001b[1;32m      5\u001b[0m \u001b[1;32mfrom\u001b[0m \u001b[0msklearn\u001b[0m \u001b[1;32mimport\u001b[0m \u001b[0mmodel_selection\u001b[0m\u001b[1;33m,\u001b[0m \u001b[0mdatasets\u001b[0m\u001b[1;33m\u001b[0m\u001b[0m\n",
      "\u001b[0;31mImportError\u001b[0m: No module named 'AccuracyAD'"
     ]
    }
   ],
   "source": [
    "import numpy as np\n",
    "import MasterClassAD\n",
    "import pandas as pd"
   ]
  },
  {
   "cell_type": "code",
   "execution_count": 3,
   "metadata": {
    "collapsed": false
   },
   "outputs": [],
   "source": [
    "w = MasterClassAD.Master(\"wine.csv\")"
   ]
  },
  {
   "cell_type": "code",
   "execution_count": 4,
   "metadata": {
    "collapsed": false
   },
   "outputs": [],
   "source": [
    "w.pass_features(['Alcohol','Malic acid','Ash','Alcalinity of ash','Magnesium','Total phenols','Flavanoids','Nonflavanoid phenols','Proanthocyanins','Color intensity','Hue','OD280/OD315 of diluted wines','Proline '])"
   ]
  },
  {
   "cell_type": "code",
   "execution_count": 5,
   "metadata": {
    "collapsed": false
   },
   "outputs": [],
   "source": [
    "w.pass_labels(\"Label\")"
   ]
  },
  {
   "cell_type": "code",
   "execution_count": 6,
   "metadata": {
    "collapsed": true
   },
   "outputs": [],
   "source": [
    "w.split_data(0.3)"
   ]
  },
  {
   "cell_type": "code",
   "execution_count": 7,
   "metadata": {
    "collapsed": false
   },
   "outputs": [],
   "source": [
    "w.classifierad()"
   ]
  },
  {
   "cell_type": "markdown",
   "metadata": {},
   "source": [
    "### IsolationForest(n_estimators=100, max_samples='auto', contamination=0.1, max_features=1.0, bootstrap=False, n_jobs=1, random_state=None, verbose=0)[source]\n",
    "\n",
    "### URL = http://scikit-learn.org/stable/modules/generated/sklearn.ensemble.IsolationForest.html#sklearn.ensemble.IsolationForest"
   ]
  },
  {
   "cell_type": "code",
   "execution_count": 8,
   "metadata": {
    "collapsed": false,
    "scrolled": true
   },
   "outputs": [
    {
     "name": "stdout",
     "output_type": "stream",
     "text": [
      "Time spent in Isolation Forest is =  0.19301104545593262\n"
     ]
    }
   ],
   "source": [
    "w.IsoFor()"
   ]
  },
  {
   "cell_type": "markdown",
   "metadata": {},
   "source": [
    "### OneClassSVM(kernel='rbf', degree=3, gamma='auto', coef0=0.0, tol=0.001, nu=0.5, shrinking=True, cache_size=200, verbose=False, max_iter=-1, random_state=None)\n",
    "    \n",
    "### URL = http://scikit-learn.org/stable/modules/generated/sklearn.svm.OneClassSVM.html"
   ]
  },
  {
   "cell_type": "code",
   "execution_count": 9,
   "metadata": {
    "collapsed": false
   },
   "outputs": [
    {
     "name": "stdout",
     "output_type": "stream",
     "text": [
      "The indices of the modeled support vectors are :  [  0   1   2   3   4   5   6   7   8   9  10  11  12  13  14  15  16  17\n",
      "  18  19  20  21  22  23  24  25  26  27  28  29  30  31  32  33  34  35\n",
      "  36  37  38  39  40  41  42  43  44  45  46  47  48  49  50  51  52  53\n",
      "  54  55  56  57  58  59  60  61  62  63  64  65  66  67  68  69  70  71\n",
      "  72  73  74  75  76  77  78  79  80  81  82  83  84  85  86  87  88  89\n",
      "  90  91  92  93  94  95  96  97  98  99 100 101 102 103 104 105 106 107\n",
      " 108 109 110 111 112 113 114 115 116 117 118 119 120 121 122 123]\n",
      "Time spent in One Class SVM is =  0.012000799179077148\n"
     ]
    }
   ],
   "source": [
    "w.OCSVM()"
   ]
  },
  {
   "cell_type": "markdown",
   "metadata": {},
   "source": [
    "### LocalOutlierFactor(n_neighbors=20, algorithm='auto', leaf_size=30, metric='minkowski', p=2, metric_params=None, contamination=0.1, n_jobs=1)\n",
    "\n",
    "### URL = http://scikit-learn.org/dev/modules/generated/sklearn.neighbors.LocalOutlierFactor.html#sklearn.neighbors.LocalOutlierFactor"
   ]
  },
  {
   "cell_type": "code",
   "execution_count": 10,
   "metadata": {
    "collapsed": false
   },
   "outputs": [
    {
     "name": "stdout",
     "output_type": "stream",
     "text": [
      "The principal components are :  [[  1.81627912e-03  -7.41431744e-04   2.81856677e-04  -4.57248291e-03\n",
      "    2.09270411e-02   9.64990849e-04   1.51932878e-03  -1.29252961e-04\n",
      "    6.08873929e-04   2.72517937e-03   1.00474415e-04   5.88242567e-04\n",
      "    9.99762879e-01]\n",
      " [  2.59399308e-03   8.08044681e-03   6.65943700e-03   2.11132580e-02\n",
      "    9.99443428e-01   6.11717850e-04  -2.76503240e-04  -3.45612968e-04\n",
      "    1.09415581e-03   1.01561229e-02  -1.46633903e-03  -2.97725630e-03\n",
      "   -2.08510549e-02]\n",
      " [  2.88821863e-04  -1.17295825e-01  -5.60133478e-02  -9.47635222e-01\n",
      "    2.41160994e-02   4.09351602e-02   9.26407035e-02  -1.63038146e-02\n",
      "    1.53567240e-02  -2.64727232e-01   2.40077325e-02   5.54436938e-02\n",
      "   -4.41578391e-03]\n",
      " [  1.33989449e-01   1.17975741e-01  -1.64203171e-02  -2.97457638e-01\n",
      "   -4.69173585e-03  -7.01494529e-02  -1.73508108e-01   1.24765428e-02\n",
      "   -3.57617492e-02   8.98381501e-01  -5.84010147e-02  -1.79954881e-01\n",
      "   -3.39583348e-03]\n",
      " [  7.25209280e-02  -4.49329417e-01   3.36771067e-02   7.09797802e-02\n",
      "   -7.46145833e-04   3.68792221e-01   6.04319413e-01  -2.91932937e-02\n",
      "    3.10948341e-01   2.96592677e-01   5.73627683e-02   3.10895037e-01\n",
      "   -2.59886133e-03]\n",
      " [  1.42569463e-01   8.64224896e-01   1.20694844e-02  -4.67679430e-02\n",
      "   -5.92344684e-03   1.81382861e-01   3.12734203e-01  -1.42493889e-02\n",
      "    2.32972337e-01  -2.84318892e-02  -5.15901455e-02   2.04375853e-01\n",
      "   -5.43026723e-04]\n",
      " [ -9.19651252e-01   8.46633661e-02  -5.86752089e-02  -3.59583337e-02\n",
      "    9.83076430e-04   2.80628436e-02   2.89461803e-02   1.57466338e-03\n",
      "    3.25342521e-01   1.00990790e-01  -2.87881439e-02  -1.54376690e-01\n",
      "    1.11446318e-03]\n",
      " [  3.16319669e-01  -9.01455130e-02  -1.19762762e-01   1.67552578e-02\n",
      "   -2.15974217e-04  -7.93462127e-02  -2.83205431e-01   1.44881833e-02\n",
      "    8.34692967e-01  -1.13925748e-01   3.66586213e-02  -2.81860643e-01\n",
      "   -5.33977943e-05]\n",
      " [ -8.89299998e-02  -2.92011926e-02  -1.06539782e-01  -1.26651017e-02\n",
      "    2.88686210e-03  -3.35887059e-01  -3.53366006e-01  -4.02377859e-02\n",
      "    1.62017104e-01   8.79396213e-02  -5.48723675e-02   8.38700572e-01\n",
      "    8.12556719e-05]\n",
      " [ -2.02430384e-02  -6.05427426e-03  -1.34621954e-01   2.81337048e-03\n",
      "    6.64783466e-04   8.31736093e-01  -5.00716590e-01  -1.67237679e-03\n",
      "   -6.31213206e-02  -2.03930060e-02  -1.51859947e-01   1.07031232e-01\n",
      "    7.34163075e-05]\n",
      " [ -3.91802795e-02   1.04125184e-02   9.13909295e-01  -6.26620175e-02\n",
      "   -4.36336766e-03   7.79616754e-02  -1.79739753e-01   2.39353605e-01\n",
      "    1.05581263e-01   1.20882232e-03   2.17182709e-01   7.20340098e-02\n",
      "   -2.76969320e-04]\n",
      " [ -2.69043104e-02   8.35870903e-02  -2.65026936e-01   1.16625464e-02\n",
      "    1.93182030e-03   7.90091423e-02  -7.09232576e-02   8.22572116e-02\n",
      "   -5.81328687e-02   5.06610680e-02   9.46739377e-01   4.01261469e-02\n",
      "    1.91962685e-05]\n",
      " [  7.58683443e-03  -1.40460048e-02  -2.06250963e-01   3.12883701e-03\n",
      "    1.75825108e-03  -2.20399827e-02   6.58884981e-02   9.65728964e-01\n",
      "   -1.40690801e-02  -6.96691255e-03  -1.35388146e-01   3.40130757e-02\n",
      "    7.86023539e-05]]\n",
      "The percentage of explained variance by the PCA model is :  [  9.97890379e+01   1.90887085e-01   1.09708992e-02   5.72093575e-03\n",
      "   1.48440864e-03   1.09158822e-03   3.30621306e-04   1.86922295e-04\n",
      "   1.27900323e-04   8.58936491e-05   4.25545492e-05   2.34629861e-05\n",
      "   9.81492899e-06]\n",
      "Time spent in Principle Component Analysis is =  0.029001712799072266\n"
     ]
    }
   ],
   "source": [
    "w.PCA()"
   ]
  },
  {
   "cell_type": "code",
   "execution_count": null,
   "metadata": {
    "collapsed": true
   },
   "outputs": [],
   "source": []
  }
 ],
 "metadata": {
  "anaconda-cloud": {},
  "kernelspec": {
   "display_name": "Python [default]",
   "language": "python",
   "name": "python3"
  },
  "language_info": {
   "codemirror_mode": {
    "name": "ipython",
    "version": 3
   },
   "file_extension": ".py",
   "mimetype": "text/x-python",
   "name": "python",
   "nbconvert_exporter": "python",
   "pygments_lexer": "ipython3",
   "version": "3.5.2"
  }
 },
 "nbformat": 4,
 "nbformat_minor": 2
}
