{
 "cells": [
  {
   "cell_type": "code",
   "execution_count": 3,
   "metadata": {
    "collapsed": false,
    "scrolled": true
   },
   "outputs": [],
   "source": [
    "import numpy as np\n",
    "import MasterClassREG\n",
    "import pandas as pd"
   ]
  },
  {
   "cell_type": "code",
   "execution_count": 4,
   "metadata": {
    "collapsed": false
   },
   "outputs": [],
   "source": [
    "w = MasterClassREG.Master(\"quakes.csv\")"
   ]
  },
  {
   "cell_type": "code",
   "execution_count": 5,
   "metadata": {
    "collapsed": false
   },
   "outputs": [],
   "source": [
    "w.pass_features([\"long\",\"depth\",\"stations\"])"
   ]
  },
  {
   "cell_type": "code",
   "execution_count": 6,
   "metadata": {
    "collapsed": false
   },
   "outputs": [],
   "source": [
    "w.pass_labels(\"mag\")"
   ]
  },
  {
   "cell_type": "code",
   "execution_count": 7,
   "metadata": {
    "collapsed": false
   },
   "outputs": [],
   "source": [
    "w.split_data(0.3)"
   ]
  },
  {
   "cell_type": "code",
   "execution_count": 8,
   "metadata": {
    "collapsed": true
   },
   "outputs": [],
   "source": [
    "w.classifierreg()"
   ]
  },
  {
   "cell_type": "markdown",
   "metadata": {},
   "source": [
    "### LinearRegression(fit_intercept=True, normalize=False, copy_X=True, n_jobs=1)\n",
    "\n",
    "### URL = http://scikit-learn.org/stable/modules/generated/sklearn.linear_model.LinearRegression.html"
   ]
  },
  {
   "cell_type": "code",
   "execution_count": 9,
   "metadata": {
    "collapsed": false
   },
   "outputs": [
    {
     "data": {
      "text/plain": [
       "array([[ 0.35572303,  1.1634019 ,  0.34637718],\n",
       "       [ 0.25846699,  1.57189161, -0.84141056],\n",
       "       [ 0.76452808, -1.25040093,  0.43774546],\n",
       "       ..., \n",
       "       [ 0.78101216, -0.31273137,  0.02658817],\n",
       "       [ 1.37443884, -1.25968478, -0.8870947 ],\n",
       "       [-1.46741562, -0.67944372,  3.90974038]])"
      ]
     },
     "execution_count": 9,
     "metadata": {},
     "output_type": "execute_result"
    }
   ],
   "source": [
    "w.get_X()"
   ]
  },
  {
   "cell_type": "code",
   "execution_count": 10,
   "metadata": {
    "collapsed": false,
    "scrolled": true
   },
   "outputs": [
    {
     "name": "stdout",
     "output_type": "stream",
     "text": [
      "Mean Absolute Error :  0.151421561072\n",
      "Mean Squared Error :  0.0360537836999\n",
      "Median Absolute Error :  0.128900011182\n",
      "Regression Score Function :  0.789951312076\n",
      "Root Mean Squared Error =  0.198552862464\n",
      "The coefficients fitted are :  [-0.04125255 -0.06067761  0.32188174]\n",
      "The intercept fitted is :  4.6196103556\n",
      "Time spent in Linear Regression is =  0.12900733947753906\n"
     ]
    }
   ],
   "source": [
    "w.LinReg()"
   ]
  },
  {
   "cell_type": "markdown",
   "metadata": {},
   "source": [
    "### Ridge(alpha=1.0, fit_intercept=True, normalize=False, copy_X=True, max_iter=None, tol=0.001, solver='auto', random_state=None)[source]\n",
    "\n",
    "### URL = http://scikit-learn.org/stable/modules/generated/sklearn.linear_model.Ridge.html"
   ]
  },
  {
   "cell_type": "code",
   "execution_count": 10,
   "metadata": {
    "collapsed": false,
    "scrolled": true
   },
   "outputs": [
    {
     "name": "stdout",
     "output_type": "stream",
     "text": [
      "Mean Absolute Error :  0.152151373955\n",
      "Mean Squared Error :  0.0375001570656\n",
      "Median Absolute Error :  0.126766430141\n",
      "Regression Score Function :  0.777355379836\n",
      "Root Mean Squared Error =  0.198547473778\n",
      "The coefficients fitted are :  [-0.03232933 -0.06721557  0.3366034 ]\n",
      "The intercept fitted is :  4.62305801934\n",
      "Time spent in Ridge Regression is =  0.14108681678771973\n"
     ]
    }
   ],
   "source": [
    "w.Ridge()"
   ]
  },
  {
   "cell_type": "markdown",
   "metadata": {},
   "source": [
    "### DecisionTreeRegressor(criterion='mse', splitter='best', max_depth=None, min_samples_split=2, min_samples_leaf=1, min_weight_fraction_leaf=0.0, max_features=None, random_state=None, max_leaf_nodes=None, min_impurity_split=1e-07, presort=False)\n",
    "\n",
    "### URL = http://scikit-learn.org/stable/modules/generated/sklearn.tree.DecisionTreeRegressor.html"
   ]
  },
  {
   "cell_type": "code",
   "execution_count": 11,
   "metadata": {
    "collapsed": false
   },
   "outputs": [
    {
     "name": "stdout",
     "output_type": "stream",
     "text": [
      "Mean Absolute Error :  0.196333333333\n",
      "Mean Squared Error :  0.0638333333333\n",
      "Median Absolute Error :  0.2\n",
      "Regression Score Function :  0.621010967263\n",
      "Root Mean Squared Error =  0.270388609228\n",
      "Feature importance matrix =  [ 0.09635332  0.12602367  0.77762301]\n",
      "Time spent in Decision Tree Regression is =  0.22315669059753418\n"
     ]
    }
   ],
   "source": [
    "w.DecTreeReg()"
   ]
  },
  {
   "cell_type": "markdown",
   "metadata": {},
   "source": [
    "### RandomForestRegressor(n_estimators=10, criterion='mse', max_depth=None, min_samples_split=2, min_samples_leaf=1, min_weight_fraction_leaf=0.0, max_features='auto', max_leaf_nodes=None, min_impurity_split=1e-07, bootstrap=True, oob_score=False, n_jobs=1, random_state=None, verbose=0, warm_start=False)\n",
    "### URL = http://scikit-learn.org/stable/modules/generated/sklearn.ensemble.RandomForestRegressor.html"
   ]
  },
  {
   "cell_type": "code",
   "execution_count": 12,
   "metadata": {
    "collapsed": false
   },
   "outputs": [
    {
     "name": "stdout",
     "output_type": "stream",
     "text": [
      "Mean Absolute Error :  0.153733333333\n",
      "Mean Squared Error :  0.039026\n",
      "Median Absolute Error :  0.13\n",
      "Regression Score Function :  0.768296198565\n",
      "Root Mean Squared Error =  0.212258804293\n",
      "Feature importance matrix =  [ 0.09336932  0.12670483  0.77992585]\n",
      "Time spent in Random Forest Regression is =  1.3078680038452148\n"
     ]
    }
   ],
   "source": [
    "w.RanForReg()"
   ]
  },
  {
   "cell_type": "markdown",
   "metadata": {},
   "source": [
    "###  BayesianRidge(n_iter=300, tol=0.001, alpha_1=1e-06, alpha_2=1e-06, lambda_1=1e-06, lambda_2=1e-06, compute_score=False, fit_intercept=True, normalize=False, copy_X=True, verbose=False)[source]\n",
    "\n",
    "### URL = http://scikit-learn.org/stable/modules/generated/sklearn.linear_model.BayesianRidge.html"
   ]
  },
  {
   "cell_type": "code",
   "execution_count": 13,
   "metadata": {
    "collapsed": false
   },
   "outputs": [
    {
     "name": "stdout",
     "output_type": "stream",
     "text": [
      "Mean Absolute Error :  0.152151387339\n",
      "Mean Squared Error :  0.037500243987\n",
      "Median Absolute Error :  0.12679035822\n",
      "Regression Score Function :  0.77735486377\n",
      "Root Mean Squared Error =  0.198549497775\n",
      "The coefficients fitted are :  [-0.03232949 -0.06721696  0.33661317]\n",
      "The intercept fitted is :  4.62305798772\n",
      "Time spent in Bayesian Ridge Regression is =  0.17210721969604492\n"
     ]
    }
   ],
   "source": [
    "w.BayRidge()"
   ]
  },
  {
   "cell_type": "markdown",
   "metadata": {},
   "source": [
    "### SGDRegressor(loss='squared_loss', penalty='l2', alpha=0.0001, l1_ratio=0.15, fit_intercept=True, n_iter=5, shuffle=True, verbose=0, epsilon=0.1, random_state=None, learning_rate='invscaling', eta0=0.01, power_t=0.25, warm_start=False, average=False)[source]\n",
    "\n",
    "### URL = http://scikit-learn.org/stable/modules/generated/sklearn.linear_model.SGDRegressor.html"
   ]
  },
  {
   "cell_type": "code",
   "execution_count": 14,
   "metadata": {
    "collapsed": false,
    "scrolled": true
   },
   "outputs": [
    {
     "name": "stdout",
     "output_type": "stream",
     "text": [
      "Mean Absolute Error :  0.152374001081\n",
      "Mean Squared Error :  0.0374708081625\n",
      "Median Absolute Error :  0.131926484528\n",
      "Regression Score Function :  0.777529629117\n",
      "Root Mean Squared Error =  0.198238343141\n",
      "The coefficients fitted are :  [-0.03233857 -0.06887649  0.33648696]\n",
      "The intercept fitted is :  [ 4.61173649]\n",
      "Time spent in Stochastic Gradient Descent Regression is =  0.14508986473083496\n"
     ]
    }
   ],
   "source": [
    "w.SGDReg()"
   ]
  },
  {
   "cell_type": "markdown",
   "metadata": {},
   "source": [
    "### AdaBoostRegressor(base_estimator=None, n_estimators=50, learning_rate=1.0, loss='linear', random_state=None)\n",
    "\n",
    "### URL =  http://scikit-learn.org/stable/modules/generated/sklearn.ensemble.AdaBoostRegressor.html"
   ]
  },
  {
   "cell_type": "code",
   "execution_count": 15,
   "metadata": {
    "collapsed": false,
    "scrolled": true
   },
   "outputs": [
    {
     "name": "stdout",
     "output_type": "stream",
     "text": [
      "Mean Absolute Error :  0.149784761033\n",
      "Mean Squared Error :  0.0359453850737\n",
      "Median Absolute Error :  0.11718058191\n",
      "Regression Score Function :  0.786586317696\n",
      "Root Mean Squared Error =  0.203352810568\n",
      "Feature importance matrix =  [ 0.1825512   0.17604737  0.64140143]\n",
      "Time spent in Adaptive Boost Regression is =  3.619420289993286\n"
     ]
    }
   ],
   "source": [
    "w.AdaBoostReg()"
   ]
  },
  {
   "cell_type": "markdown",
   "metadata": {},
   "source": [
    "### Lasso(alpha=1.0, fit_intercept=True, normalize=False, precompute=False, copy_X=True, max_iter=1000, tol=0.0001, warm_start=False, positive=False, random_state=None, selection='cyclic')\n",
    "\n",
    "### URL = http://scikit-learn.org/stable/modules/generated/sklearn.linear_model.Lasso.html"
   ]
  },
  {
   "cell_type": "code",
   "execution_count": 11,
   "metadata": {
    "collapsed": false
   },
   "outputs": [
    {
     "name": "stdout",
     "output_type": "stream",
     "text": [
      "Mean Absolute Error :  0.332466666667\n",
      "Mean Squared Error :  0.173066972789\n",
      "Median Absolute Error :  0.322142857143\n",
      "Regression Score Function :  -0.000195052524943\n",
      "Root Mean Squared Error =  0.403638289977\n",
      "The coefficients fitted are :  [-0. -0.  0.]\n",
      "The intercept fitted is :  4.62214285714\n",
      "Time spent in Lasso Regression is =  0.1430952548980713\n"
     ]
    }
   ],
   "source": [
    "w.LassoReg()"
   ]
  },
  {
   "cell_type": "markdown",
   "metadata": {},
   "source": [
    "### SVR(kernel='rbf', degree=3, gamma='auto', coef0=0.0, tol=0.001, C=1.0, epsilon=0.1, shrinking=True, cache_size=200, verbose=False, max_iter=-1)\n",
    "### URL = http://scikit-learn.org/stable/modules/generated/sklearn.svm.SVR.html#sklearn.svm.SVR"
   ]
  },
  {
   "cell_type": "code",
   "execution_count": 1,
   "metadata": {
    "collapsed": false
   },
   "outputs": [
    {
     "ename": "NameError",
     "evalue": "name 'w' is not defined",
     "output_type": "error",
     "traceback": [
      "\u001b[0;31m---------------------------------------------------------------------------\u001b[0m",
      "\u001b[0;31mNameError\u001b[0m                                 Traceback (most recent call last)",
      "\u001b[0;32m<ipython-input-1-43896b106431>\u001b[0m in \u001b[0;36m<module>\u001b[0;34m()\u001b[0m\n\u001b[0;32m----> 1\u001b[0;31m \u001b[0mw\u001b[0m\u001b[1;33m.\u001b[0m\u001b[0mSVR\u001b[0m\u001b[1;33m(\u001b[0m\u001b[0mkernel\u001b[0m \u001b[1;33m=\u001b[0m \u001b[1;34m'rbf'\u001b[0m\u001b[1;33m)\u001b[0m\u001b[1;33m\u001b[0m\u001b[0m\n\u001b[0m",
      "\u001b[0;31mNameError\u001b[0m: name 'w' is not defined"
     ]
    }
   ],
   "source": [
    "w.SVR(kernel = 'rbf')"
   ]
  },
  {
   "cell_type": "code",
   "execution_count": null,
   "metadata": {
    "collapsed": true
   },
   "outputs": [],
   "source": []
  }
 ],
 "metadata": {
  "kernelspec": {
   "display_name": "Python 3",
   "language": "python",
   "name": "python3"
  },
  "language_info": {
   "codemirror_mode": {
    "name": "ipython",
    "version": 3
   },
   "file_extension": ".py",
   "mimetype": "text/x-python",
   "name": "python",
   "nbconvert_exporter": "python",
   "pygments_lexer": "ipython3",
   "version": "3.6.0"
  }
 },
 "nbformat": 4,
 "nbformat_minor": 2
}
