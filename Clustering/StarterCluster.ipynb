{
 "cells": [
  {
   "cell_type": "code",
   "execution_count": 1,
   "metadata": {
    "collapsed": false
   },
   "outputs": [],
   "source": [
    "import numpy as np\n",
    "import MasterClassCluster\n",
    "import pandas as pd"
   ]
  },
  {
   "cell_type": "code",
   "execution_count": 5,
   "metadata": {
    "collapsed": false
   },
   "outputs": [],
   "source": [
    "w = MasterClassCluster.Master(\"Cluster.csv\")"
   ]
  },
  {
   "cell_type": "code",
   "execution_count": 6,
   "metadata": {
    "collapsed": false
   },
   "outputs": [],
   "source": [
    "w.pass_features(['STG','SCG','STR','LPR','PEG'])"
   ]
  },
  {
   "cell_type": "code",
   "execution_count": 8,
   "metadata": {
    "collapsed": false
   },
   "outputs": [],
   "source": [
    "w.pass_labels(' UNS')"
   ]
  },
  {
   "cell_type": "code",
   "execution_count": 9,
   "metadata": {
    "collapsed": false
   },
   "outputs": [],
   "source": [
    "w.clustering()"
   ]
  },
  {
   "cell_type": "code",
   "execution_count": 10,
   "metadata": {
    "collapsed": false
   },
   "outputs": [
    {
     "data": {
      "text/plain": [
       "0      very_low\n",
       "1          High\n",
       "2           Low\n",
       "3        Middle\n",
       "4           Low\n",
       "5        Middle\n",
       "6        Middle\n",
       "7      very_low\n",
       "8           Low\n",
       "9          High\n",
       "10         High\n",
       "11          Low\n",
       "12       Middle\n",
       "13         High\n",
       "14       Middle\n",
       "15         High\n",
       "16     very_low\n",
       "17          Low\n",
       "18          Low\n",
       "19       Middle\n",
       "20          Low\n",
       "21       Middle\n",
       "22       Middle\n",
       "23          Low\n",
       "24          Low\n",
       "25         High\n",
       "26     very_low\n",
       "27          Low\n",
       "28         High\n",
       "29         High\n",
       "         ...   \n",
       "228        High\n",
       "229        High\n",
       "230      Middle\n",
       "231         Low\n",
       "232         Low\n",
       "233        High\n",
       "234      Middle\n",
       "235         Low\n",
       "236         Low\n",
       "237        High\n",
       "238      Middle\n",
       "239      Middle\n",
       "240         Low\n",
       "241        High\n",
       "242      Middle\n",
       "243         Low\n",
       "244      Middle\n",
       "245        High\n",
       "246      Middle\n",
       "247         Low\n",
       "248        High\n",
       "249      Middle\n",
       "250      Middle\n",
       "251      Middle\n",
       "252         Low\n",
       "253        High\n",
       "254      Middle\n",
       "255        High\n",
       "256      Middle\n",
       "257        High\n",
       "Name:  UNS, dtype: object"
      ]
     },
     "execution_count": 10,
     "metadata": {},
     "output_type": "execute_result"
    }
   ],
   "source": [
    "w.get_y()"
   ]
  },
  {
   "cell_type": "markdown",
   "metadata": {},
   "source": [
    "### AffinityPropagation(damping=0.5, max_iter=200, convergence_iter=15, copy=True, preference=None, affinity='euclidean', verbose=False)\n",
    "\n",
    "### URL = http://scikit-learn.org/stable/modules/generated/sklearn.cluster.AffinityPropagation.html\n"
   ]
  },
  {
   "cell_type": "code",
   "execution_count": 11,
   "metadata": {
    "collapsed": false,
    "scrolled": true
   },
   "outputs": [
    {
     "name": "stdout",
     "output_type": "stream",
     "text": [
      "Estimated number of clusters: 24\n",
      "Homogeneity: 0.543\n",
      "Completeness: 0.227\n",
      "V-measure: 0.321\n",
      "Adjusted Rand Index: 0.081\n",
      "Adjusted Mutual Information: 0.187\n",
      "Silhouette Coefficient: 0.298\n",
      "Time spent in Affinity Propagation is =  1.1347558498382568\n"
     ]
    }
   ],
   "source": [
    "w.AffinityPro()"
   ]
  },
  {
   "cell_type": "markdown",
   "metadata": {},
   "source": [
    "### KMeans(n_clusters=8, init='k-means++', n_init=10, max_iter=300, tol=0.0001, precompute_distances='auto', verbose=0, random_state=None, copy_x=True, n_jobs=1, algorithm='auto')\n",
    "\n",
    "### URL = http://scikit-learn.org/stable/modules/generated/sklearn.cluster.KMeans.html\n"
   ]
  },
  {
   "cell_type": "code",
   "execution_count": 20,
   "metadata": {
    "collapsed": false
   },
   "outputs": [
    {
     "name": "stdout",
     "output_type": "stream",
     "text": [
      "[2 2 2 3 3 2 2 3 3 2 1 3 3 1 1 1 1 2 2 2 3 2 2 3 3 1 3 3 3 1 1 3 3 2 2 3 3\n",
      " 2 3 3 3 1 1 3 3 1 1 1 0 2 2 2 3 2 2 3 3 1 1 3 3 1 1 3 3 2 2 2 2 2 2 2 3 1\n",
      " 1 3 3 1 1 1 3 2 2 3 3 3 2 3 3 1 1 3 3 1 1 3 3 2 2 2 3 2 2 3 3 1 1 1 3 1 1\n",
      " 1 0 2 2 3 3 0 2 2 3 3 1 1 0 0 1 1 3 3 2 2 3 0 2 2 3 3 1 1 3 3 1 1 1 0 2 3\n",
      " 3 0 2 2 3 3 1 1 1 0 1 1 3 3 2 2 3 2 2 0 3 2 1 1 0 3 1 1 3 0 2 2 3 0 2 2 3\n",
      " 3 1 1 3 0 1 1 1 0 2 2 3 3 2 3 3 0 1 1 0 3 1 1 3 0 2 2 0 0 1 2 3 0 1 1 3 0\n",
      " 1 1 3 0 2 2 0 0 2 2 3 0 1 1 3 0 1 1 3 0 2 2 3 0 2 2 0 0 1 1 3 0 1 1 3 0]\n",
      "Homogeneity: 0.234\n",
      "Completeness: 0.227\n",
      "V-measure: 0.231\n",
      "Adjusted Rand Index: 0.171\n",
      "Adjusted Mutual Information: 0.217\n",
      "Silhouette Coefficient: 0.342\n",
      "Time spent in K Means is =  0.3382284641265869\n"
     ]
    }
   ],
   "source": [
    "w.KMeans(n_clusters=4)"
   ]
  },
  {
   "cell_type": "markdown",
   "metadata": {},
   "source": [
    "### SpectralClustering(n_clusters=8, eigen_solver=None, random_state=None, n_init=10, gamma=1.0, affinity='rbf', n_neighbors=10, eigen_tol=0.0, assign_labels='kmeans', degree=3, coef0=1, kernel_params=None, n_jobs=1)\n",
    "\n",
    "### URL = http://scikit-learn.org/stable/modules/generated/sklearn.cluster.SpectralClustering.html\n"
   ]
  },
  {
   "cell_type": "code",
   "execution_count": 13,
   "metadata": {
    "collapsed": false
   },
   "outputs": [
    {
     "name": "stdout",
     "output_type": "stream",
     "text": [
      "[3 1 3 3 3 0 0 3 3 0 0 3 2 0 0 0 0 3 3 3 3 0 1 3 3 0 3 0 2 0 0 2 2 1 1 3 3\n",
      " 3 3 3 3 0 0 2 0 0 0 0 0 1 3 1 3 1 1 3 2 0 0 2 2 0 0 2 2 3 3 3 3 0 0 1 3 0\n",
      " 0 3 2 0 0 0 2 1 1 3 3 3 1 3 2 0 0 2 2 0 0 2 2 1 1 3 3 1 1 3 3 0 0 0 2 0 0\n",
      " 0 2 1 1 1 3 1 1 1 2 2 0 1 1 2 0 0 2 2 3 1 3 1 0 3 3 3 0 0 3 2 0 0 0 2 3 3\n",
      " 3 1 1 3 3 2 0 0 0 2 0 0 2 2 1 1 3 1 1 1 3 1 0 0 1 2 0 0 2 2 1 1 3 2 1 3 2\n",
      " 2 1 1 2 2 0 1 0 2 1 3 3 3 1 3 3 1 0 0 2 2 0 0 2 2 1 1 1 2 1 3 3 2 0 0 2 2\n",
      " 0 0 2 2 1 3 1 1 1 3 2 2 1 0 2 1 0 0 2 2 1 1 2 1 1 1 1 2 1 1 2 2 1 1 2 2]\n",
      "Homogeneity: 0.232\n",
      "Completeness: 0.218\n",
      "V-measure: 0.225\n",
      "Adjusted Rand Index: 0.155\n",
      "Adjusted Mutual Information: 0.207\n",
      "Silhouette Coefficient: 0.312\n",
      "Time spent in Spectral Clustering is =  1.2048001289367676\n"
     ]
    }
   ],
   "source": [
    "w.SpectralCluster(n_clusters=4)"
   ]
  },
  {
   "cell_type": "markdown",
   "metadata": {},
   "source": [
    "### MiniBatchKMeans(n_clusters=8, init='k-means++', max_iter=100, batch_size=100, verbose=0, compute_labels=True, random_state=None, tol=0.0, max_no_improvement=10, init_size=None, n_init=3, reassignment_ratio=0.01)\n",
    "\n",
    "### URL = http://scikit-learn.org/stable/modules/generated/sklearn.cluster.MiniBatchKMeans.html"
   ]
  },
  {
   "cell_type": "code",
   "execution_count": 19,
   "metadata": {
    "collapsed": false
   },
   "outputs": [
    {
     "name": "stdout",
     "output_type": "stream",
     "text": [
      "[1 2 1 1 1 2 2 1 1 2 2 1 1 2 2 2 3 1 1 1 1 2 2 1 1 2 3 3 3 2 2 3 3 2 2 1 1\n",
      " 2 1 1 1 2 2 3 3 2 2 2 2 2 1 1 1 0 2 1 1 2 2 3 1 2 3 3 3 1 1 1 1 2 2 2 1 2\n",
      " 2 1 1 3 3 3 3 2 2 1 1 1 2 1 1 2 2 3 3 3 2 3 3 2 2 1 1 2 2 1 1 2 2 2 3 2 3\n",
      " 3 3 0 0 1 1 0 0 0 1 1 2 0 0 3 2 3 3 3 1 2 1 0 2 2 1 1 2 3 1 3 2 3 3 3 1 1\n",
      " 1 0 2 1 1 1 2 2 3 0 2 3 3 3 0 0 1 0 2 0 1 0 3 3 0 3 2 3 3 3 0 0 1 1 0 1 1\n",
      " 1 0 0 3 0 0 0 3 3 0 1 1 1 0 1 1 1 3 3 0 3 2 3 3 3 0 0 0 1 0 1 1 0 2 3 3 3\n",
      " 0 0 3 0 0 1 0 0 0 1 1 0 0 3 3 0 0 3 3 0 0 1 1 0 0 0 0 0 0 0 3 0 0 0 3 0]\n",
      "Homogeneity: 0.284\n",
      "Completeness: 0.267\n",
      "V-measure: 0.275\n",
      "Adjusted Rand Index: 0.200\n",
      "Adjusted Mutual Information: 0.257\n",
      "Silhouette Coefficient: 0.270\n",
      "Time spent in Batch K Means is =  0.2111349105834961\n"
     ]
    }
   ],
   "source": [
    "w.BatchKMeans(n_clusters=4)"
   ]
  },
  {
   "cell_type": "markdown",
   "metadata": {},
   "source": [
    "### GaussianMixture(n_components=1, covariance_type='full', tol=0.001, reg_covar=1e-06, max_iter=100, n_init=1, init_params='kmeans', weights_init=None, means_init=None, precisions_init=None, random_state=None, warm_start=False, verbose=0, verbose_interval=10)\n",
    "\n",
    "### URL = http://scikit-learn.org/stable/modules/generated/sklearn.mixture.GaussianMixture.html#sklearn.mixture.GaussianMixture"
   ]
  },
  {
   "cell_type": "code",
   "execution_count": 17,
   "metadata": {
    "collapsed": false
   },
   "outputs": [
    {
     "name": "stdout",
     "output_type": "stream",
     "text": [
      "[2 1 2 2 2 1 1 2 2 1 1 2 2 1 1 1 0 2 2 1 2 1 1 2 2 1 0 0 3 1 1 0 0 1 1 2 2\n",
      " 2 2 2 2 1 1 0 0 1 1 1 3 1 2 2 2 1 1 2 2 1 1 0 0 1 1 0 0 2 2 2 2 1 1 1 2 1\n",
      " 1 0 0 0 0 0 0 1 1 2 2 2 1 2 2 1 1 2 0 0 1 0 0 1 1 2 2 1 1 2 2 1 1 1 2 1 0\n",
      " 0 3 1 1 2 2 3 1 1 2 2 2 1 1 3 1 0 0 0 2 1 2 3 1 1 2 2 1 0 0 0 1 0 0 3 2 2\n",
      " 2 3 1 2 2 2 1 1 1 3 1 1 0 0 1 1 2 1 1 1 2 1 0 1 3 0 1 0 0 3 1 1 2 3 1 2 2\n",
      " 2 1 1 0 3 1 1 1 3 1 2 2 2 1 2 2 2 0 0 3 0 1 1 0 3 1 1 3 2 1 2 2 3 1 0 0 0\n",
      " 1 1 0 3 1 2 3 3 1 2 2 3 1 2 0 1 1 1 0 3 1 2 2 3 1 2 3 3 1 1 0 3 1 1 0 3]\n",
      "Homogeneity: 0.452\n",
      "Completeness: 0.456\n",
      "V-measure: 0.454\n",
      "Adjusted Rand Index: 0.350\n",
      "Adjusted Mutual Information: 0.445\n",
      "Silhouette Coefficient: 0.326\n",
      "Time spent in GMM is =  0.625415563583374\n"
     ]
    }
   ],
   "source": [
    "w.GMM(n_components = 4)"
   ]
  },
  {
   "cell_type": "markdown",
   "metadata": {},
   "source": [
    "### BayesianGaussianMixture(n_components=1, covariance_type='full', tol=0.001, reg_covar=1e-06, max_iter=100, n_init=1, init_params='kmeans', weight_concentration_prior_type='dirichlet_process', weight_concentration_prior=None, mean_precision_prior=None, mean_prior=None, degrees_of_freedom_prior=None, covariance_prior=None, random_state=None, warm_start=False, verbose=0, verbose_interval=10)\n",
    "\n",
    "### URL = http://scikit-learn.org/stable/modules/generated/sklearn.mixture.BayesianGaussianMixture.html#sklearn.mixture.BayesianGaussianMixture"
   ]
  },
  {
   "cell_type": "code",
   "execution_count": 18,
   "metadata": {
    "collapsed": false
   },
   "outputs": [
    {
     "name": "stdout",
     "output_type": "stream",
     "text": [
      "[3 0 3 3 3 0 0 3 3 1 1 3 3 1 1 1 3 3 3 0 3 0 0 3 3 1 3 3 2 1 1 3 3 0 0 3 3\n",
      " 3 3 3 3 0 0 3 3 1 1 1 2 0 3 3 3 0 0 3 3 1 0 3 3 1 1 3 3 3 3 2 3 0 0 0 3 0\n",
      " 1 3 3 3 3 3 3 0 0 3 3 3 0 3 3 0 1 3 3 3 1 3 3 0 0 3 3 0 0 3 3 0 1 1 3 1 3\n",
      " 3 2 0 0 3 3 2 0 0 3 3 3 0 0 2 1 3 3 3 3 0 3 2 0 0 3 3 0 3 3 3 1 3 3 2 3 3\n",
      " 3 2 0 3 3 3 0 0 1 2 1 1 3 3 0 0 3 0 0 2 3 0 3 1 2 3 1 3 3 2 0 0 3 2 0 3 3\n",
      " 3 0 0 3 2 0 0 1 2 0 3 3 3 0 3 3 2 3 3 2 3 1 1 3 2 0 0 2 3 0 3 3 2 0 3 3 3\n",
      " 1 1 3 2 0 3 2 2 0 3 3 2 0 3 3 2 1 1 3 2 0 3 3 2 0 3 2 2 0 0 3 2 0 0 3 2]\n",
      "Homogeneity: 0.453\n",
      "Completeness: 0.479\n",
      "V-measure: 0.466\n",
      "Adjusted Rand Index: 0.367\n",
      "Adjusted Mutual Information: 0.446\n",
      "Silhouette Coefficient: 0.253\n",
      "Time spent in GMM is =  0.421281099319458\n"
     ]
    }
   ],
   "source": [
    "w.VBGMM(n_components = 4)"
   ]
  },
  {
   "cell_type": "code",
   "execution_count": null,
   "metadata": {
    "collapsed": true
   },
   "outputs": [],
   "source": []
  },
  {
   "cell_type": "code",
   "execution_count": null,
   "metadata": {
    "collapsed": true
   },
   "outputs": [],
   "source": []
  }
 ],
 "metadata": {
  "kernelspec": {
   "display_name": "Python 3",
   "language": "python",
   "name": "python3"
  },
  "language_info": {
   "codemirror_mode": {
    "name": "ipython",
    "version": 3
   },
   "file_extension": ".py",
   "mimetype": "text/x-python",
   "name": "python",
   "nbconvert_exporter": "python",
   "pygments_lexer": "ipython3",
   "version": "3.6.0"
  }
 },
 "nbformat": 4,
 "nbformat_minor": 2
}
