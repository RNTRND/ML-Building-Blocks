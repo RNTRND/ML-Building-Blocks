{
 "cells": [
  {
   "cell_type": "code",
   "execution_count": 1,
   "metadata": {
    "collapsed": false
   },
   "outputs": [],
   "source": [
    "import numpy as np\n",
    "import MasterClassCluster\n",
    "import pandas as pd"
   ]
  },
  {
   "cell_type": "code",
   "execution_count": 2,
   "metadata": {
    "collapsed": false
   },
   "outputs": [],
   "source": [
    "w = MasterClassCluster.Master(\"Student_knowledge.csv\")"
   ]
  },
  {
   "cell_type": "code",
   "execution_count": 3,
   "metadata": {
    "collapsed": false
   },
   "outputs": [],
   "source": [
    "w.pass_features(['STG','SCG','STR','LPR','PEG'])"
   ]
  },
  {
   "cell_type": "code",
   "execution_count": 4,
   "metadata": {
    "collapsed": false
   },
   "outputs": [],
   "source": [
    "w.pass_labels(' UNS')"
   ]
  },
  {
   "cell_type": "code",
   "execution_count": 5,
   "metadata": {
    "collapsed": false
   },
   "outputs": [],
   "source": [
    "w.clustering()"
   ]
  },
  {
   "cell_type": "markdown",
   "metadata": {},
   "source": [
    "### AffinityPropagation(damping=0.5, max_iter=200, convergence_iter=15, copy=True, preference=None, affinity='euclidean', verbose=False)\n",
    "\n",
    "### URL = http://scikit-learn.org/stable/modules/generated/sklearn.cluster.AffinityPropagation.html\n"
   ]
  },
  {
   "cell_type": "code",
   "execution_count": 6,
   "metadata": {
    "collapsed": false,
    "scrolled": true
   },
   "outputs": [
    {
     "name": "stdout",
     "output_type": "stream",
     "text": [
      "Estimated number of clusters: 24\n",
      "Homogeneity: 0.543\n",
      "Completeness: 0.227\n",
      "V-measure: 0.321\n",
      "Adjusted Rand Index: 0.081\n",
      "Adjusted Mutual Information: 0.187\n",
      "Silhouette Coefficient: 0.298\n",
      "Time spent in Affinity Propagation is =  0.10700607299804688\n"
     ]
    }
   ],
   "source": [
    "w.AffinityPro()"
   ]
  },
  {
   "cell_type": "markdown",
   "metadata": {},
   "source": [
    "### KMeans(n_clusters=8, init='k-means++', n_init=10, max_iter=300, tol=0.0001, precompute_distances='auto', verbose=0, random_state=None, copy_x=True, n_jobs=1, algorithm='auto')\n",
    "\n",
    "### URL = http://scikit-learn.org/stable/modules/generated/sklearn.cluster.KMeans.html\n"
   ]
  },
  {
   "cell_type": "code",
   "execution_count": 7,
   "metadata": {
    "collapsed": false
   },
   "outputs": [
    {
     "name": "stdout",
     "output_type": "stream",
     "text": [
      "[1 0 1 1 1 2 2 1 1 2 2 1 3 2 2 2 1 1 1 0 1 0 0 1 1 2 1 1 3 2 2 3 3 0 0 1 1\n",
      " 1 1 1 1 2 2 3 1 2 2 2 2 0 1 0 1 0 0 1 3 2 2 3 3 2 2 3 3 1 1 1 1 2 0 0 1 2\n",
      " 2 1 3 2 2 2 3 0 0 1 1 1 0 1 3 2 2 3 1 2 2 3 3 0 0 1 1 0 0 1 1 2 2 2 3 2 2\n",
      " 2 3 0 0 0 1 3 0 0 3 3 2 0 0 3 2 2 3 3 1 0 1 0 0 0 1 1 2 1 1 3 2 2 2 3 1 1\n",
      " 1 0 0 1 1 3 2 2 2 3 2 2 3 3 0 0 1 0 0 0 1 0 2 2 2 3 2 2 3 3 0 0 1 3 0 1 3\n",
      " 3 2 2 3 3 2 2 2 3 0 1 1 1 0 1 1 3 1 2 3 3 2 2 3 3 0 0 0 3 0 1 1 3 2 2 3 3\n",
      " 2 2 3 3 0 1 0 0 0 1 3 3 2 2 3 0 2 2 3 3 0 0 3 0 0 0 0 3 2 2 3 3 2 2 3 3]\n",
      "Homogeneity: 0.267\n",
      "Completeness: 0.251\n",
      "V-measure: 0.259\n",
      "Adjusted Rand Index: 0.172\n",
      "Adjusted Mutual Information: 0.241\n",
      "Silhouette Coefficient: 0.316\n",
      "Time spent in K Means is =  0.06700396537780762\n"
     ]
    }
   ],
   "source": [
    "w.KMeans(n_clusters=4)"
   ]
  },
  {
   "cell_type": "markdown",
   "metadata": {},
   "source": [
    "### SpectralClustering(n_clusters=8, eigen_solver=None, random_state=None, n_init=10, gamma=1.0, affinity='rbf', n_neighbors=10, eigen_tol=0.0, assign_labels='kmeans', degree=3, coef0=1, kernel_params=None, n_jobs=1)\n",
    "\n",
    "### URL = http://scikit-learn.org/stable/modules/generated/sklearn.cluster.SpectralClustering.html\n"
   ]
  },
  {
   "cell_type": "code",
   "execution_count": 8,
   "metadata": {
    "collapsed": false
   },
   "outputs": [
    {
     "name": "stdout",
     "output_type": "stream",
     "text": [
      "[2 1 2 2 2 3 3 2 2 3 3 2 0 3 3 3 3 2 2 2 2 3 1 2 2 3 3 3 0 3 3 0 0 1 1 2 2\n",
      " 2 2 2 2 3 3 0 3 3 3 3 3 1 2 1 2 1 1 2 0 3 3 0 0 3 3 0 0 2 2 2 2 3 3 1 2 3\n",
      " 3 2 0 3 3 3 0 1 1 2 2 2 1 2 0 3 3 0 0 3 3 0 0 1 1 2 2 1 1 2 2 3 3 3 0 3 3\n",
      " 3 0 1 1 1 2 1 1 1 0 0 3 1 1 0 3 3 0 0 2 1 2 1 3 2 2 2 3 3 2 0 3 3 3 0 2 2\n",
      " 2 1 1 2 2 0 3 3 3 0 3 3 0 0 1 1 2 1 1 1 2 1 3 3 1 0 3 3 0 0 1 1 2 0 1 2 0\n",
      " 0 1 1 0 0 3 1 3 0 1 2 2 2 1 2 2 1 3 3 0 0 3 3 0 0 1 1 1 2 1 2 2 0 3 3 0 0\n",
      " 3 3 0 0 1 2 1 1 1 2 0 0 1 3 0 1 3 3 0 0 1 1 0 1 1 1 1 0 1 1 0 0 1 1 0 0]\n",
      "Homogeneity: 0.225\n",
      "Completeness: 0.211\n",
      "V-measure: 0.218\n",
      "Adjusted Rand Index: 0.151\n",
      "Adjusted Mutual Information: 0.201\n",
      "Silhouette Coefficient: 0.312\n",
      "Time spent in Spectral Clustering is =  0.1020059585571289\n"
     ]
    }
   ],
   "source": [
    "w.SpectralCluster(n_clusters=4)"
   ]
  },
  {
   "cell_type": "markdown",
   "metadata": {},
   "source": [
    "### MiniBatchKMeans(n_clusters=8, init='k-means++', max_iter=100, batch_size=100, verbose=0, compute_labels=True, random_state=None, tol=0.0, max_no_improvement=10, init_size=None, n_init=3, reassignment_ratio=0.01)\n",
    "\n",
    "### URL = http://scikit-learn.org/stable/modules/generated/sklearn.cluster.MiniBatchKMeans.html"
   ]
  },
  {
   "cell_type": "code",
   "execution_count": 9,
   "metadata": {
    "collapsed": false
   },
   "outputs": [
    {
     "name": "stdout",
     "output_type": "stream",
     "text": [
      "[3 1 3 3 3 1 1 3 2 1 1 3 2 1 1 1 3 3 3 3 3 1 1 3 2 1 3 2 2 1 1 2 2 1 1 3 3\n",
      " 3 3 3 2 1 1 2 2 1 1 1 1 3 3 3 3 1 1 3 2 1 1 2 2 1 1 2 2 3 3 3 3 1 1 1 3 1\n",
      " 1 3 2 1 2 2 2 1 1 3 3 3 1 3 2 1 1 2 2 2 1 2 2 1 3 3 3 1 3 3 2 1 1 1 2 1 1\n",
      " 2 2 1 1 3 2 0 1 1 2 2 1 1 1 2 1 2 2 2 3 1 3 0 1 3 3 2 1 3 2 2 1 1 2 0 3 3\n",
      " 3 0 1 3 3 2 1 1 1 0 1 1 2 2 1 1 3 1 1 1 3 1 1 1 1 2 1 2 2 0 1 1 3 0 1 3 2\n",
      " 2 1 1 2 0 1 1 1 0 1 3 3 3 1 3 3 0 3 3 0 2 1 1 2 0 1 3 0 0 1 3 3 0 1 1 2 0\n",
      " 1 1 2 0 1 3 0 0 1 3 2 0 1 3 2 1 1 1 2 0 1 3 0 0 1 3 0 0 1 1 2 0 1 1 2 0]\n",
      "Homogeneity: 0.329\n",
      "Completeness: 0.331\n",
      "V-measure: 0.330\n",
      "Adjusted Rand Index: 0.254\n",
      "Adjusted Mutual Information: 0.320\n",
      "Silhouette Coefficient: 0.336\n",
      "Time spent in Batch K Means is =  0.044002532958984375\n"
     ]
    }
   ],
   "source": [
    "w.BatchKMeans(n_clusters=4)"
   ]
  },
  {
   "cell_type": "markdown",
   "metadata": {},
   "source": [
    "### GaussianMixture(n_components=1, covariance_type='full', tol=0.001, reg_covar=1e-06, max_iter=100, n_init=1, init_params='kmeans', weights_init=None, means_init=None, precisions_init=None, random_state=None, warm_start=False, verbose=0, verbose_interval=10)\n",
    "\n",
    "### URL = http://scikit-learn.org/stable/modules/generated/sklearn.mixture.GaussianMixture.html#sklearn.mixture.GaussianMixture"
   ]
  },
  {
   "cell_type": "code",
   "execution_count": 10,
   "metadata": {
    "collapsed": false
   },
   "outputs": [
    {
     "name": "stdout",
     "output_type": "stream",
     "text": [
      "[3 1 3 3 0 2 2 3 0 1 1 3 0 1 2 1 3 3 3 3 0 2 2 3 0 1 3 3 0 1 2 0 0 1 1 3 3\n",
      " 3 3 3 0 1 2 3 3 2 2 1 1 2 3 3 0 1 2 3 0 2 1 0 0 2 2 3 0 3 3 3 3 2 2 1 3 2\n",
      " 1 3 0 3 3 3 0 2 2 3 3 3 1 3 0 2 2 0 3 3 1 0 0 1 2 3 3 1 2 3 0 2 2 2 0 1 3\n",
      " 3 0 1 2 3 0 1 2 1 0 0 3 1 1 0 2 3 0 0 3 2 3 1 2 2 3 3 2 3 3 0 2 3 3 0 3 3\n",
      " 3 1 1 3 3 3 2 2 2 1 2 2 3 0 1 1 3 1 2 1 3 1 3 2 1 0 2 3 0 1 2 1 3 0 1 3 3\n",
      " 0 1 2 3 0 2 1 2 0 2 3 3 3 2 3 3 3 3 3 1 3 2 2 3 1 2 2 1 3 2 3 3 0 2 3 3 3\n",
      " 2 2 3 1 2 3 1 1 2 3 3 1 2 3 3 1 2 2 3 1 2 3 3 1 2 3 1 0 2 2 3 0 2 1 0 0]\n",
      "Homogeneity: 0.572\n",
      "Completeness: 0.553\n",
      "V-measure: 0.562\n",
      "Adjusted Rand Index: 0.497\n",
      "Adjusted Mutual Information: 0.547\n",
      "Silhouette Coefficient: 0.179\n",
      "Time spent in GMM is =  0.0890049934387207\n"
     ]
    }
   ],
   "source": [
    "w.GMM(n_components = 4)"
   ]
  },
  {
   "cell_type": "markdown",
   "metadata": {},
   "source": [
    "### BayesianGaussianMixture(n_components=1, covariance_type='full', tol=0.001, reg_covar=1e-06, max_iter=100, n_init=1, init_params='kmeans', weight_concentration_prior_type='dirichlet_process', weight_concentration_prior=None, mean_precision_prior=None, mean_prior=None, degrees_of_freedom_prior=None, covariance_prior=None, random_state=None, warm_start=False, verbose=0, verbose_interval=10)\n",
    "\n",
    "### URL = http://scikit-learn.org/stable/modules/generated/sklearn.mixture.BayesianGaussianMixture.html#sklearn.mixture.BayesianGaussianMixture"
   ]
  },
  {
   "cell_type": "code",
   "execution_count": 11,
   "metadata": {
    "collapsed": false
   },
   "outputs": [
    {
     "name": "stdout",
     "output_type": "stream",
     "text": [
      "[3 1 3 3 3 1 1 3 3 1 1 3 3 1 1 1 2 3 3 1 3 1 1 3 3 1 2 2 0 1 1 2 2 1 1 3 3\n",
      " 3 3 3 3 1 1 2 2 1 1 1 0 1 3 3 3 1 1 3 3 1 1 2 2 1 1 2 2 3 3 0 3 1 1 1 3 1\n",
      " 1 3 3 2 2 2 2 1 1 3 3 3 1 3 3 1 1 3 3 2 1 2 2 1 1 3 3 1 1 3 3 1 1 1 3 1 2\n",
      " 2 0 1 1 3 3 0 1 1 3 3 3 1 1 0 1 2 2 2 3 1 3 0 1 1 3 3 1 3 3 2 1 2 2 0 3 3\n",
      " 3 0 1 3 3 3 1 1 1 0 1 1 2 2 1 1 3 1 1 1 3 1 3 1 0 3 1 2 2 0 1 1 3 0 1 3 3\n",
      " 3 1 1 3 0 1 1 1 0 1 3 3 0 1 3 3 0 3 3 0 3 1 1 3 0 1 1 0 0 1 3 3 0 1 3 3 3\n",
      " 1 1 3 0 1 3 0 0 1 3 3 0 1 3 3 1 1 1 3 0 1 3 3 0 1 3 0 0 1 1 3 0 1 1 2 0]\n",
      "Homogeneity: 0.439\n",
      "Completeness: 0.457\n",
      "V-measure: 0.448\n",
      "Adjusted Rand Index: 0.370\n",
      "Adjusted Mutual Information: 0.431\n",
      "Silhouette Coefficient: 0.294\n",
      "Time spent in GMM is =  0.08300471305847168\n"
     ]
    }
   ],
   "source": [
    "w.VBGMM(n_components = 4)"
   ]
  }
 ],
 "metadata": {
  "kernelspec": {
   "display_name": "Python 3",
   "language": "python",
   "name": "python3"
  },
  "language_info": {
   "codemirror_mode": {
    "name": "ipython",
    "version": 3
   },
   "file_extension": ".py",
   "mimetype": "text/x-python",
   "name": "python",
   "nbconvert_exporter": "python",
   "pygments_lexer": "ipython3",
   "version": "3.6.0"
  }
 },
 "nbformat": 4,
 "nbformat_minor": 2
}
