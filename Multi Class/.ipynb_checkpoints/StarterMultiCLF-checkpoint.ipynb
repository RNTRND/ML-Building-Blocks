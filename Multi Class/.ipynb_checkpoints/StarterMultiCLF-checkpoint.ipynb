{
 "cells": [
  {
   "cell_type": "code",
   "execution_count": 1,
   "metadata": {
    "collapsed": false,
    "scrolled": true
   },
   "outputs": [],
   "source": [
    "import numpy as np\n",
    "import MasterClassMultiCLF\n",
    "import pandas as pd"
   ]
  },
  {
   "cell_type": "code",
   "execution_count": 3,
   "metadata": {
    "collapsed": false
   },
   "outputs": [],
   "source": [
    "w = MasterClassMultiCLF.Master(\"Activity_recog.csv\")"
   ]
  },
  {
   "cell_type": "code",
   "execution_count": 4,
   "metadata": {
    "collapsed": false
   },
   "outputs": [],
   "source": [
    "w.pass_features(['sequential number','x acceleration','y acceleration','z acceleration'])"
   ]
  },
  {
   "cell_type": "code",
   "execution_count": 5,
   "metadata": {
    "collapsed": true
   },
   "outputs": [],
   "source": [
    "w.pass_labels(\"label\")"
   ]
  },
  {
   "cell_type": "code",
   "execution_count": 6,
   "metadata": {
    "collapsed": true
   },
   "outputs": [],
   "source": [
    "w.split_data(0.3)"
   ]
  },
  {
   "cell_type": "code",
   "execution_count": 8,
   "metadata": {
    "collapsed": false
   },
   "outputs": [],
   "source": [
    "w.classifier()"
   ]
  },
  {
   "cell_type": "markdown",
   "metadata": {},
   "source": [
    "### URL = http://scikit-learn.org/stable/modules/naive_bayes.html"
   ]
  },
  {
   "cell_type": "code",
   "execution_count": 9,
   "metadata": {
    "collapsed": false
   },
   "outputs": [
    {
     "name": "stdout",
     "output_type": "stream",
     "text": [
      "simple accuracy :  0.933970585219\n",
      "confusion matrix :  [[    0     0     0     0     0     0     0     1]\n",
      " [    0  9944    42    16   101     0     0     0]\n",
      " [    0    17   244     6    11     0     0     0]\n",
      " [    0    23    22  1900   185    58     0  1136]\n",
      " [    0   120     0   666  7172     0     0     4]\n",
      " [    0     0     0    64     2   904     0    78]\n",
      " [    0     0     0    15     0     0   687   140]\n",
      " [    0     0     0   349    87     0    76 24681]]\n",
      "precision: [ 0.          0.98416469  0.79220779  0.62997347  0.94892829  0.93970894\n",
      "  0.90039318  0.94781106]\n",
      "recall: [ 0.          0.9842621   0.87769784  0.57160048  0.9007787   0.86259542\n",
      "  0.81591449  0.97967689]\n",
      "fscore: [ 0.          0.98421339  0.83276451  0.59936909  0.9242268   0.89950249\n",
      "  0.85607477  0.96348057]\n",
      "support: [    1 10103   278  3324  7962  1048   842 25193]\n",
      "Time spent in Naive Bayes is =  0.137007474899292\n"
     ]
    },
    {
     "name": "stderr",
     "output_type": "stream",
     "text": [
      "C:\\ProgramData\\Anaconda3\\lib\\site-packages\\sklearn\\metrics\\classification.py:1113: UndefinedMetricWarning: Precision and F-score are ill-defined and being set to 0.0 in labels with no predicted samples.\n",
      "  'precision', 'predicted', average, warn_for)\n"
     ]
    }
   ],
   "source": [
    "w.NB()"
   ]
  },
  {
   "cell_type": "markdown",
   "metadata": {},
   "source": [
    "### LogisticRegression(penalty='l2', dual=False, tol=0.0001, C=1.0, fit_intercept=True, intercept_scaling=1, class_weight=None, random_state=None, solver='liblinear', max_iter=100, multi_class='ovr', verbose=0, warm_start=False, n_jobs=1\n",
    "\n",
    "### URL = http://scikit-learn.org/stable/modules/generated/sklearn.linear_model.LogisticRegression.html"
   ]
  },
  {
   "cell_type": "code",
   "execution_count": 10,
   "metadata": {
    "collapsed": false
   },
   "outputs": [
    {
     "name": "stdout",
     "output_type": "stream",
     "text": [
      "simple accuracy :  0.887222826198\n",
      "confusion matrix :  [[    0     0     0     0     0     0     0     1]\n",
      " [    0 10058     0     1    44     0     0     0]\n",
      " [    0    26     0    27   225     0     0     0]\n",
      " [    0     1     0   793  2390     3     0   137]\n",
      " [    0     0     0   859  7077    26     0     0]\n",
      " [    0     0     0   122   779   147     0     0]\n",
      " [    0     0     0    47   246     4     0   545]\n",
      " [    0     0     0     4    11     0     0 25178]]\n",
      "precision: [ 0.          0.99732276  0.          0.42795467  0.65698106  0.81666667\n",
      "  0.          0.97358958]\n",
      "recall: [ 0.          0.99554588  0.          0.23856799  0.88884702  0.14026718\n",
      "  0.          0.9994046 ]\n",
      "fscore: [ 0.          0.99643352  0.          0.30635503  0.75552471  0.23941368\n",
      "  0.          0.9863282 ]\n",
      "support: [    1 10103   278  3324  7962  1048   842 25193]\n",
      "Time spent in Logistic Regression is =  3.949225902557373\n"
     ]
    },
    {
     "name": "stderr",
     "output_type": "stream",
     "text": [
      "C:\\ProgramData\\Anaconda3\\lib\\site-packages\\sklearn\\metrics\\classification.py:1113: UndefinedMetricWarning: Precision and F-score are ill-defined and being set to 0.0 in labels with no predicted samples.\n",
      "  'precision', 'predicted', average, warn_for)\n"
     ]
    }
   ],
   "source": [
    "w.LogReg(C=0.5)"
   ]
  },
  {
   "cell_type": "markdown",
   "metadata": {},
   "source": [
    "### DecisionTreeClassifier(criterion='gini', splitter='best', max_depth=None, min_samples_split=2, min_samples_leaf=1, min_weight_fraction_leaf=0.0, max_features=None, random_state=None, max_leaf_nodes=None, min_impurity_split=1e-07, class_weight=None, presort=False)\n",
    "\n",
    "### http://scikit-learn.org/stable/modules/generated/sklearn.tree.DecisionTreeClassifier.html#sklearn.tree.DecisionTreeClassifier"
   ]
  },
  {
   "cell_type": "code",
   "execution_count": 11,
   "metadata": {
    "collapsed": false
   },
   "outputs": [
    {
     "name": "stdout",
     "output_type": "stream",
     "text": [
      "simple accuracy :  0.999466677607\n",
      "confusion matrix :  [[    0     0     0     0     0     0     0     1]\n",
      " [    0 10103     0     0     0     0     0     0]\n",
      " [    0     0   278     0     0     0     0     0]\n",
      " [    0     0     0  3318     0     6     0     0]\n",
      " [    0     0     0     0  7962     0     0     0]\n",
      " [    0     0     0    19     0  1029     0     0]\n",
      " [    0     0     0     0     0     0   842     0]\n",
      " [    0     0     0     0     0     0     0 25193]]\n",
      "precision: [ 0.          1.          1.          0.99430626  1.          0.9942029   1.\n",
      "  0.99996031]\n",
      "recall: [ 0.          1.          1.          0.99819495  1.          0.98187023\n",
      "  1.          1.        ]\n",
      "fscore: [ 0.          1.          1.          0.99624681  1.          0.98799808\n",
      "  1.          0.99998015]\n",
      "support: [    1 10103   278  3324  7962  1048   842 25193]\n",
      "Time spent in Decision Tree is =  0.2260129451751709\n"
     ]
    },
    {
     "name": "stderr",
     "output_type": "stream",
     "text": [
      "C:\\ProgramData\\Anaconda3\\lib\\site-packages\\sklearn\\metrics\\classification.py:1113: UndefinedMetricWarning: Precision and F-score are ill-defined and being set to 0.0 in labels with no predicted samples.\n",
      "  'precision', 'predicted', average, warn_for)\n"
     ]
    }
   ],
   "source": [
    "w.DecTree(min_samples_split = 50)"
   ]
  },
  {
   "cell_type": "markdown",
   "metadata": {},
   "source": [
    "### AdaBoostClassifier(base_estimator=None, n_estimators=50, learning_rate=1.0, algorithm='SAMME.R', random_state=None)\n",
    "\n",
    "### URL = http://scikit-learn.org/stable/modules/generated/sklearn.ensemble.AdaBoostClassifier.html"
   ]
  },
  {
   "cell_type": "code",
   "execution_count": 12,
   "metadata": {
    "collapsed": false
   },
   "outputs": [
    {
     "name": "stdout",
     "output_type": "stream",
     "text": [
      "simple accuracy :  0.887325388197\n",
      "confusion matrix :  [[    0     0     0     0     0     0     0     1]\n",
      " [    0 10103     0     0     0     0     0     0]\n",
      " [    0     0     0     0   278     0     0     0]\n",
      " [    0     0     0     0  3324     0     0     0]\n",
      " [    0     0     0     0  7962     0     0     0]\n",
      " [    0     0     0     0  1048     0     0     0]\n",
      " [    0     0     0     0   842     0     0     0]\n",
      " [    0     0     0     0     0     0     0 25193]]\n",
      "precision: [ 0.          1.          0.          0.          0.59179426  0.          0.\n",
      "  0.99996031]\n",
      "recall: [ 0.  1.  0.  0.  1.  0.  0.  1.]\n",
      "fscore: [ 0.          1.          0.          0.          0.74355622  0.          0.\n",
      "  0.99998015]\n",
      "support: [    1 10103   278  3324  7962  1048   842 25193]\n",
      "Time spent in AdaBoost is =  5.295302867889404\n"
     ]
    },
    {
     "name": "stderr",
     "output_type": "stream",
     "text": [
      "C:\\ProgramData\\Anaconda3\\lib\\site-packages\\sklearn\\metrics\\classification.py:1113: UndefinedMetricWarning: Precision and F-score are ill-defined and being set to 0.0 in labels with no predicted samples.\n",
      "  'precision', 'predicted', average, warn_for)\n"
     ]
    }
   ],
   "source": [
    "w.AdaBoostClf()"
   ]
  },
  {
   "cell_type": "markdown",
   "metadata": {},
   "source": [
    "### SVC(C=1.0, kernel='rbf', degree=3, gamma='auto', coef0=0.0, shrinking=True, probability=False, tol=0.001, cache_size=200, class_weight=None, verbose=False, max_iter=-1, decision_function_shape=None, random_state=None)\n",
    "\n",
    "### URL = http://scikit-learn.org/stable/modules/generated/sklearn.svm.SVC.html"
   ]
  },
  {
   "cell_type": "code",
   "execution_count": null,
   "metadata": {
    "collapsed": false
   },
   "outputs": [],
   "source": [
    "w.SVM()"
   ]
  },
  {
   "cell_type": "markdown",
   "metadata": {},
   "source": [
    "### KNeighborsClassifier(n_neighbors=5, weights='uniform', algorithm='auto', leaf_size=30, p=2, metric='minkowski', metric_params=None, n_jobs=1, **kwargs)\n",
    "\n",
    "### URL = http://scikit-learn.org/stable/modules/generated/sklearn.neighbors.KNeighborsClassifier.html"
   ]
  },
  {
   "cell_type": "code",
   "execution_count": 13,
   "metadata": {
    "collapsed": false
   },
   "outputs": [
    {
     "name": "stdout",
     "output_type": "stream",
     "text": [
      "simple accuracy :  0.999733338803\n",
      "confusion matrix :  [[    0     0     0     0     0     0     0     1]\n",
      " [    0 10103     0     0     0     0     0     0]\n",
      " [    0     0   276     2     0     0     0     0]\n",
      " [    0     0     3  3319     2     0     0     0]\n",
      " [    0     0     0     0  7962     0     0     0]\n",
      " [    0     0     0     2     0  1046     0     0]\n",
      " [    0     0     0     0     0     0   840     2]\n",
      " [    0     0     0     0     0     0     1 25192]]\n",
      "precision: [ 0.          1.          0.98924731  0.99879627  0.99974887  1.\n",
      "  0.99881094  0.99988093]\n",
      "recall: [ 0.          1.          0.99280576  0.99849579  1.          0.9980916\n",
      "  0.9976247   0.99996031]\n",
      "fscore: [ 0.          1.          0.99102334  0.99864601  0.99987442  0.99904489\n",
      "  0.99821747  0.99992062]\n",
      "support: [    1 10103   278  3324  7962  1048   842 25193]\n",
      "Time spent in K Nearest Neighbor is =  0.8090462684631348\n"
     ]
    },
    {
     "name": "stderr",
     "output_type": "stream",
     "text": [
      "C:\\ProgramData\\Anaconda3\\lib\\site-packages\\sklearn\\metrics\\classification.py:1113: UndefinedMetricWarning: Precision and F-score are ill-defined and being set to 0.0 in labels with no predicted samples.\n",
      "  'precision', 'predicted', average, warn_for)\n"
     ]
    }
   ],
   "source": [
    "w.KNN()"
   ]
  },
  {
   "cell_type": "markdown",
   "metadata": {},
   "source": [
    "### RandomForestRegressor(n_estimators=10, criterion='mse', max_depth=None, min_samples_split=2, min_samples_leaf=1, min_weight_fraction_leaf=0.0, max_features='auto', max_leaf_nodes=None, min_impurity_split=1e-07, bootstrap=True, oob_score=False, n_jobs=1, random_state=None, verbose=0, warm_start=False)\n",
    "\n",
    "### URL = http://scikit-learn.org/stable/modules/generated/sklearn.ensemble.RandomForestRegressor.html"
   ]
  },
  {
   "cell_type": "code",
   "execution_count": 14,
   "metadata": {
    "collapsed": false
   },
   "outputs": [
    {
     "name": "stdout",
     "output_type": "stream",
     "text": [
      "simple accuracy :  0.943221677504\n",
      "confusion matrix :  [[    0     0     0     0     0     0     0     1]\n",
      " [    0 10026     0     7    68     0     0     2]\n",
      " [    0     0     0    50   226     0     0     2]\n",
      " [    0     0     0  2817   485     6     0    16]\n",
      " [    0     0     0   206  7733     0     0    23]\n",
      " [    0     6     0    95   732   213     0     2]\n",
      " [    0     6     0   133   673    16     1    13]\n",
      " [    0     0     0     0     0     0     0 25193]]\n",
      "precision: [ 0.          0.99880454  0.          0.85157195  0.77977211  0.90638298\n",
      "  1.          0.99766355]\n",
      "recall: [ 0.          0.9923785   0.          0.84747292  0.97123838  0.20324427\n",
      "  0.00118765  1.        ]\n",
      "fscore: [ 0.          0.99558115  0.          0.84951749  0.86503719  0.33203429\n",
      "  0.00237248  0.99883041]\n",
      "support: [    1 10103   278  3324  7962  1048   842 25193]\n",
      "Time spent in Random Forest is =  0.599034309387207\n"
     ]
    },
    {
     "name": "stderr",
     "output_type": "stream",
     "text": [
      "C:\\ProgramData\\Anaconda3\\lib\\site-packages\\sklearn\\metrics\\classification.py:1113: UndefinedMetricWarning: Precision and F-score are ill-defined and being set to 0.0 in labels with no predicted samples.\n",
      "  'precision', 'predicted', average, warn_for)\n"
     ]
    }
   ],
   "source": [
    "w.RanForClf()"
   ]
  }
 ],
 "metadata": {
  "kernelspec": {
   "display_name": "Python 3",
   "language": "python",
   "name": "python3"
  },
  "language_info": {
   "codemirror_mode": {
    "name": "ipython",
    "version": 3
   },
   "file_extension": ".py",
   "mimetype": "text/x-python",
   "name": "python",
   "nbconvert_exporter": "python",
   "pygments_lexer": "ipython3",
   "version": "3.6.0"
  }
 },
 "nbformat": 4,
 "nbformat_minor": 2
}
