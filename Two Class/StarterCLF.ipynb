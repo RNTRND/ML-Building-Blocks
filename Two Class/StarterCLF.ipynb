{
 "cells": [
  {
   "cell_type": "code",
   "execution_count": 1,
   "metadata": {
    "collapsed": false,
    "scrolled": true
   },
   "outputs": [],
   "source": [
    "import numpy as np\n",
    "import MasterClassCLF\n",
    "import pandas as pd"
   ]
  },
  {
   "cell_type": "code",
   "execution_count": 16,
   "metadata": {
    "collapsed": false
   },
   "outputs": [],
   "source": [
    "w = MasterClassCLF.Master(\"Social_Network_Ads.csv\")"
   ]
  },
  {
   "cell_type": "code",
   "execution_count": 23,
   "metadata": {
    "collapsed": false
   },
   "outputs": [],
   "source": [
    "w.pass_features(['Age','EstimatedSalary'])"
   ]
  },
  {
   "cell_type": "code",
   "execution_count": 24,
   "metadata": {
    "collapsed": true
   },
   "outputs": [],
   "source": [
    "w.pass_labels(\"Purchased\")"
   ]
  },
  {
   "cell_type": "code",
   "execution_count": 25,
   "metadata": {
    "collapsed": true
   },
   "outputs": [],
   "source": [
    "s = w.get_X()"
   ]
  },
  {
   "cell_type": "code",
   "execution_count": 26,
   "metadata": {
    "collapsed": true
   },
   "outputs": [],
   "source": [
    "w.split_data(0.3)"
   ]
  },
  {
   "cell_type": "code",
   "execution_count": 27,
   "metadata": {
    "collapsed": false
   },
   "outputs": [],
   "source": [
    "w.classifierclf()"
   ]
  },
  {
   "cell_type": "code",
   "execution_count": 28,
   "metadata": {
    "collapsed": false
   },
   "outputs": [
    {
     "name": "stdout",
     "output_type": "stream",
     "text": [
      "simple accuracy :  0.9\n",
      "confusion matrix :  [[70  8]\n",
      " [ 4 38]]\n",
      "recall score :  0.904761904762\n",
      "precision score :  0.826086956522\n",
      "cross validation score of roc auc 0.955278388278\n",
      "Time spent in Naive Bayes is =  0.2781867980957031\n"
     ]
    }
   ],
   "source": [
    "w.NB()"
   ]
  },
  {
   "cell_type": "code",
   "execution_count": 29,
   "metadata": {
    "collapsed": false
   },
   "outputs": [
    {
     "name": "stdout",
     "output_type": "stream",
     "text": [
      "simple accuracy :  0.758333333333\n",
      "confusion matrix :  [[72  6]\n",
      " [23 19]]\n",
      "recall score :  0.452380952381\n",
      "precision score :  0.76\n",
      "Time spent in Logistic Regression is =  0.07204914093017578\n"
     ]
    }
   ],
   "source": [
    "w.LogReg()"
   ]
  },
  {
   "cell_type": "code",
   "execution_count": 30,
   "metadata": {
    "collapsed": false
   },
   "outputs": [
    {
     "name": "stdout",
     "output_type": "stream",
     "text": [
      "simple accuracy :  0.875\n",
      "confusion matrix :  [[67 11]\n",
      " [ 4 38]]\n",
      "recall score :  0.904761904762\n",
      "precision score :  0.775510204082\n",
      "cross validation score of roc auc 0.797974358974\n",
      "Time spent in Decision Tree is =  0.2761828899383545\n"
     ]
    }
   ],
   "source": [
    "w.DecTree()"
   ]
  },
  {
   "cell_type": "code",
   "execution_count": 31,
   "metadata": {
    "collapsed": false
   },
   "outputs": [
    {
     "name": "stdout",
     "output_type": "stream",
     "text": [
      "simple accuracy :  0.9\n",
      "confusion matrix :  [[72  6]\n",
      " [ 6 36]]\n",
      "recall score :  0.857142857143\n",
      "precision score :  0.857142857143\n",
      "cross validation score of roc auc 0.948283882784\n",
      "Time spent in AdaBoost is =  4.156764984130859\n"
     ]
    }
   ],
   "source": [
    "w.AdaBoostClf()"
   ]
  },
  {
   "cell_type": "code",
   "execution_count": 32,
   "metadata": {
    "collapsed": false
   },
   "outputs": [
    {
     "name": "stdout",
     "output_type": "stream",
     "text": [
      "simple accuracy :  0.658333333333\n",
      "confusion matrix :  [[71  7]\n",
      " [34  8]]\n",
      "recall score :  0.190476190476\n",
      "precision score :  0.533333333333\n",
      "cross validation score of roc auc 0.799144688645\n",
      "Time spent in Support Vector Machine is =  0.5143404006958008\n"
     ]
    }
   ],
   "source": [
    "w.SVM()"
   ]
  },
  {
   "cell_type": "code",
   "execution_count": 33,
   "metadata": {
    "collapsed": false
   },
   "outputs": [
    {
     "name": "stdout",
     "output_type": "stream",
     "text": [
      "simple accuracy :  0.791666666667\n",
      "confusion matrix :  [[67 11]\n",
      " [14 28]]\n",
      "recall score :  0.666666666667\n",
      "precision score :  0.717948717949\n",
      "cross validation score of roc auc 0.846214285714\n",
      "Time spent in K Nearest Neighbor is =  0.283189058303833\n"
     ]
    }
   ],
   "source": [
    "w.KNN()"
   ]
  },
  {
   "cell_type": "code",
   "execution_count": 34,
   "metadata": {
    "collapsed": false
   },
   "outputs": [
    {
     "name": "stdout",
     "output_type": "stream",
     "text": [
      "simple accuracy :  0.908333333333\n",
      "confusion matrix :  [[68 10]\n",
      " [ 1 41]]\n",
      "recall score :  0.97619047619\n",
      "precision score :  0.803921568627\n",
      "cross validation score of roc auc 0.944128205128\n",
      "Time spent in Random Forest is =  1.0286798477172852\n"
     ]
    }
   ],
   "source": [
    "w.RanForClf()"
   ]
  },
  {
   "cell_type": "code",
   "execution_count": 35,
   "metadata": {
    "collapsed": false
   },
   "outputs": [
    {
     "name": "stdout",
     "output_type": "stream",
     "text": [
      "simple accuracy :  0.875\n",
      "confusion matrix :  [[67 11]\n",
      " [ 4 38]]\n",
      "recall score :  0.904761904762\n",
      "precision score :  0.775510204082\n",
      "cross validation score of roc auc 0.80315018315\n",
      "Time spent in Decision Tree is =  0.2501680850982666\n"
     ]
    }
   ],
   "source": [
    "w.DecTree()"
   ]
  },
  {
   "cell_type": "code",
   "execution_count": null,
   "metadata": {
    "collapsed": true
   },
   "outputs": [],
   "source": []
  }
 ],
 "metadata": {
  "kernelspec": {
   "display_name": "Python 3",
   "language": "python",
   "name": "python3"
  },
  "language_info": {
   "codemirror_mode": {
    "name": "ipython",
    "version": 3
   },
   "file_extension": ".py",
   "mimetype": "text/x-python",
   "name": "python",
   "nbconvert_exporter": "python",
   "pygments_lexer": "ipython3",
   "version": "3.6.0"
  }
 },
 "nbformat": 4,
 "nbformat_minor": 2
}
