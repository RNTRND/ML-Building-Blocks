{
 "cells": [
  {
   "cell_type": "code",
   "execution_count": 1,
   "metadata": {
    "collapsed": false,
    "scrolled": true
   },
   "outputs": [],
   "source": [
    "import numpy as np\n",
    "import MasterClassCLF\n",
    "import pandas as pd"
   ]
  },
  {
   "cell_type": "code",
   "execution_count": 2,
   "metadata": {
    "collapsed": false
   },
   "outputs": [],
   "source": [
    "w = MasterClassCLF.Master(\"Social_Network_Ads.csv\")"
   ]
  },
  {
   "cell_type": "code",
   "execution_count": 3,
   "metadata": {
    "collapsed": false
   },
   "outputs": [],
   "source": [
    "w.pass_features(['Age','EstimatedSalary'])"
   ]
  },
  {
   "cell_type": "code",
   "execution_count": 4,
   "metadata": {
    "collapsed": true
   },
   "outputs": [],
   "source": [
    "w.pass_labels(\"Purchased\")"
   ]
  },
  {
   "cell_type": "code",
   "execution_count": 5,
   "metadata": {
    "collapsed": true
   },
   "outputs": [],
   "source": [
    "s = w.get_X()"
   ]
  },
  {
   "cell_type": "code",
   "execution_count": 6,
   "metadata": {
    "collapsed": true
   },
   "outputs": [],
   "source": [
    "w.split_data(0.3)"
   ]
  },
  {
   "cell_type": "code",
   "execution_count": 7,
   "metadata": {
    "collapsed": false
   },
   "outputs": [],
   "source": [
    "w.classifierclf()"
   ]
  },
  {
   "cell_type": "markdown",
   "metadata": {},
   "source": [
    "### URL = http://scikit-learn.org/stable/modules/naive_bayes.html"
   ]
  },
  {
   "cell_type": "code",
   "execution_count": 8,
   "metadata": {
    "collapsed": false
   },
   "outputs": [
    {
     "name": "stdout",
     "output_type": "stream",
     "text": [
      "simple accuracy :  0.875\n",
      "confusion matrix :  [[71  3]\n",
      " [12 34]]\n",
      "recall score :  0.739130434783\n",
      "precision score :  0.918918918919\n",
      "cross validation score of roc auc 0.955278388278\n",
      "Time spent in Naive Bayes is =  0.08100438117980957\n"
     ]
    }
   ],
   "source": [
    "w.NB()"
   ]
  },
  {
   "cell_type": "code",
   "execution_count": null,
   "metadata": {
    "collapsed": true
   },
   "outputs": [],
   "source": []
  },
  {
   "cell_type": "code",
   "execution_count": 9,
   "metadata": {
    "collapsed": false
   },
   "outputs": [
    {
     "name": "stdout",
     "output_type": "stream",
     "text": [
      "simple accuracy :  0.616666666667\n",
      "confusion matrix :  [[74  0]\n",
      " [46  0]]\n",
      "recall score :  0.0\n",
      "precision score :  0.0\n",
      "Time spent in Logistic Regression is =  0.04700279235839844\n"
     ]
    },
    {
     "name": "stderr",
     "output_type": "stream",
     "text": [
      "C:\\ProgramData\\Anaconda3\\lib\\site-packages\\sklearn\\metrics\\classification.py:1113: UndefinedMetricWarning: Precision is ill-defined and being set to 0.0 due to no predicted samples.\n",
      "  'precision', 'predicted', average, warn_for)\n"
     ]
    }
   ],
   "source": [
    "w.LogReg()"
   ]
  },
  {
   "cell_type": "code",
   "execution_count": null,
   "metadata": {
    "collapsed": true
   },
   "outputs": [],
   "source": []
  },
  {
   "cell_type": "code",
   "execution_count": 10,
   "metadata": {
    "collapsed": false
   },
   "outputs": [
    {
     "name": "stdout",
     "output_type": "stream",
     "text": [
      "simple accuracy :  0.858333333333\n",
      "confusion matrix :  [[68  6]\n",
      " [11 35]]\n",
      "recall score :  0.760869565217\n",
      "precision score :  0.853658536585\n",
      "cross validation score of roc auc 0.807007326007\n",
      "Time spent in Decision Tree is =  0.07300424575805664\n"
     ]
    }
   ],
   "source": [
    "w.DecTree()"
   ]
  },
  {
   "cell_type": "code",
   "execution_count": null,
   "metadata": {
    "collapsed": true
   },
   "outputs": [],
   "source": []
  },
  {
   "cell_type": "code",
   "execution_count": 11,
   "metadata": {
    "collapsed": false
   },
   "outputs": [
    {
     "name": "stdout",
     "output_type": "stream",
     "text": [
      "simple accuracy :  0.9\n",
      "confusion matrix :  [[70  4]\n",
      " [ 8 38]]\n",
      "recall score :  0.826086956522\n",
      "precision score :  0.904761904762\n",
      "cross validation score of roc auc 0.948283882784\n",
      "Time spent in AdaBoost is =  1.1500658988952637\n"
     ]
    }
   ],
   "source": [
    "w.AdaBoostClf()"
   ]
  },
  {
   "cell_type": "code",
   "execution_count": null,
   "metadata": {
    "collapsed": true
   },
   "outputs": [],
   "source": []
  },
  {
   "cell_type": "code",
   "execution_count": 12,
   "metadata": {
    "collapsed": false
   },
   "outputs": [
    {
     "name": "stdout",
     "output_type": "stream",
     "text": [
      "simple accuracy :  0.65\n",
      "confusion matrix :  [[72  2]\n",
      " [40  6]]\n",
      "recall score :  0.130434782609\n",
      "precision score :  0.75\n",
      "cross validation score of roc auc 0.799144688645\n",
      "Time spent in Support Vector Machine is =  0.25301432609558105\n"
     ]
    }
   ],
   "source": [
    "w.SVM()"
   ]
  },
  {
   "cell_type": "code",
   "execution_count": null,
   "metadata": {
    "collapsed": true
   },
   "outputs": [],
   "source": []
  },
  {
   "cell_type": "code",
   "execution_count": 13,
   "metadata": {
    "collapsed": false
   },
   "outputs": [
    {
     "name": "stdout",
     "output_type": "stream",
     "text": [
      "simple accuracy :  0.825\n",
      "confusion matrix :  [[67  7]\n",
      " [14 32]]\n",
      "recall score :  0.695652173913\n",
      "precision score :  0.820512820513\n",
      "cross validation score of roc auc 0.846214285714\n",
      "Time spent in K Nearest Neighbor is =  0.08000445365905762\n"
     ]
    }
   ],
   "source": [
    "w.KNN()"
   ]
  },
  {
   "cell_type": "code",
   "execution_count": null,
   "metadata": {
    "collapsed": true
   },
   "outputs": [],
   "source": []
  },
  {
   "cell_type": "code",
   "execution_count": 14,
   "metadata": {
    "collapsed": false
   },
   "outputs": [
    {
     "name": "stdout",
     "output_type": "stream",
     "text": [
      "simple accuracy :  0.925\n",
      "confusion matrix :  [[70  4]\n",
      " [ 5 41]]\n",
      "recall score :  0.891304347826\n",
      "precision score :  0.911111111111\n",
      "cross validation score of roc auc 0.951049450549\n",
      "Time spent in Random Forest is =  0.28601622581481934\n"
     ]
    }
   ],
   "source": [
    "w.RanForClf()"
   ]
  }
 ],
 "metadata": {
  "kernelspec": {
   "display_name": "Python 3",
   "language": "python",
   "name": "python3"
  },
  "language_info": {
   "codemirror_mode": {
    "name": "ipython",
    "version": 3
   },
   "file_extension": ".py",
   "mimetype": "text/x-python",
   "name": "python",
   "nbconvert_exporter": "python",
   "pygments_lexer": "ipython3",
   "version": "3.6.0"
  }
 },
 "nbformat": 4,
 "nbformat_minor": 2
}
